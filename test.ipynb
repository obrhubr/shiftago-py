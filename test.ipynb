{
 "cells": [
  {
   "cell_type": "code",
   "execution_count": 1,
   "metadata": {},
   "outputs": [],
   "source": [
    "from shiftagopy import Shiftago\n",
    "import numpy as np"
   ]
  },
  {
   "cell_type": "code",
   "execution_count": 2,
   "metadata": {},
   "outputs": [],
   "source": [
    "game = Shiftago(winning_length=4, size=7)"
   ]
  },
  {
   "cell_type": "code",
   "execution_count": 39,
   "metadata": {},
   "outputs": [],
   "source": [
    "game.board = np.array(\n",
    "[[1, 1, 2, 2, 0, 2, 1],\n",
    "[0, 1, 2, 0, 0, 0, 0],\n",
    "[0, 2, 1, 0, 0, 0, 0],\n",
    "[2, 0, 0, 2, 0, 0, 1],\n",
    "[0, 2, 0, 2, 1, 1, 0],\n",
    "[1, 0, 0, 0, 1, 1, 0],\n",
    "[0, 0, 0, 0, 0, 0, 1]], dtype=np.int8)"
   ]
  },
  {
   "cell_type": "code",
   "execution_count": 40,
   "metadata": {},
   "outputs": [
    {
     "data": {
      "text/plain": [
       "2"
      ]
     },
     "execution_count": 40,
     "metadata": {},
     "output_type": "execute_result"
    }
   ],
   "source": [
    "game.check_end()"
   ]
  },
  {
   "cell_type": "code",
   "execution_count": 41,
   "metadata": {},
   "outputs": [
    {
     "name": "stdout",
     "output_type": "stream",
     "text": [
      "4\n"
     ]
    }
   ],
   "source": [
    "for i in range(game.size):\n",
    "\t# vertical\n",
    "\tif game.check_direction(0, i, 1, 0):\n",
    "\t\tprint(1)\n",
    "\t# horizontal\n",
    "\tif game.check_direction(i, 0, 0, 1):\n",
    "\t\tprint(2)\n",
    "\n",
    "diagonals_top = [(0, c) for c in range(game.size - game.winning_length + 2)]\n",
    "\n",
    "for r, c in diagonals_top:\n",
    "\t# diagonal \\\n",
    "\tif game.check_direction(r, c, 1, 1):\n",
    "\t\tprint(3)\n",
    "\t# diagonals /\n",
    "\tif game.check_direction(r, game.size - 1 - c, 1, -1):\n",
    "\t\tprint(4)\n",
    "\n",
    "# Exclude top left square\n",
    "diagonals_left = [(r + 1, 0) for r in range(game.size - game.winning_length + 1)]\n",
    "for r, c in diagonals_left:\n",
    "\t# diagonal \\\n",
    "\tif game.check_direction(r, c, 1, 1):\n",
    "\t\tprint(5)\n",
    "\t# diagonals /\n",
    "\tif game.check_direction(r, game.size - 1 - c, 1, -1):\n",
    "\t\tprint(6)"
   ]
  }
 ],
 "metadata": {
  "kernelspec": {
   "display_name": "data",
   "language": "python",
   "name": "python3"
  },
  "language_info": {
   "codemirror_mode": {
    "name": "ipython",
    "version": 3
   },
   "file_extension": ".py",
   "mimetype": "text/x-python",
   "name": "python",
   "nbconvert_exporter": "python",
   "pygments_lexer": "ipython3",
   "version": "3.11.0"
  }
 },
 "nbformat": 4,
 "nbformat_minor": 2
}
